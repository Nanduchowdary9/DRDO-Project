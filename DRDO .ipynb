{
 "cells": [
  {
   "cell_type": "code",
   "execution_count": 8,
   "id": "b0f9dd1d",
   "metadata": {},
   "outputs": [
    {
     "name": "stdout",
     "output_type": "stream",
     "text": [
      "Enter station1 and station 2: 10 11\n",
      "No Solution\n"
     ]
    }
   ],
   "source": [
    "from collections import deque\n",
    "\n",
    "def find_path(station1, station2):\n",
    "    a = min(station1, station2)\n",
    "    b = max(station1, station2)\n",
    "    path = []\n",
    "    path.append((station1, station2))\n",
    "    \n",
    "    queue = deque([(a, b, path)])  # Queue to store states (a, b, path)\n",
    "    \n",
    "    while queue:\n",
    "        a, b, current_path = queue.popleft()\n",
    "        \n",
    "        if a == b:\n",
    "            c = 50 - a\n",
    "            if c >= 5:\n",
    "                if (c % 5) % 2 == 0:\n",
    "                    for _ in range(c // 5):\n",
    "                        a += 5\n",
    "                        b += 5\n",
    "                        current_path.append((a, b))\n",
    "                    for _ in range((c % 5) // 2):\n",
    "                        a += 2\n",
    "                        b += 2\n",
    "                        current_path.append((a, b))\n",
    "                else:\n",
    "                    for _ in range((c // 5) - 1):\n",
    "                        a += 5\n",
    "                        b += 5\n",
    "                        current_path.append((a, b))\n",
    "                    for _ in range((5 + (c % 5)) // 2):\n",
    "                        a += 2\n",
    "                        b += 2\n",
    "                        current_path.append((a, b))\n",
    "            else:\n",
    "                if c % 2 == 0:\n",
    "                    for _ in range(c // 2):\n",
    "                        a += 2\n",
    "                        b += 2\n",
    "                        current_path.append((a, b))\n",
    "                else:\n",
    "                    return \"No Solution\"\n",
    "            \n",
    "            return current_path\n",
    "        \n",
    "        \n",
    "        next_a = a + 5\n",
    "        next_b = b + 2\n",
    "        \n",
    "        # Ensure the next states are within bounds\n",
    "        if next_a <= 50 and next_b <= 50:\n",
    "            next_path = current_path.copy()\n",
    "            next_path.append((next_a, next_b))\n",
    "            queue.append((next_a, next_b, next_path))\n",
    "        \n",
    "    return \"No Solution\"\n",
    "\n",
    "\n",
    "station1, station2 = list(map(int, input(\"Enter station1 and station 2: \").split()))\n",
    "path = find_path(station1, station2)\n",
    "if path == \"No Solution\":\n",
    "    print(\"No Solution\")\n",
    "else:\n",
    "    print(\"Path of transfers:\", path)\n",
    "    print(\"Minimum number of steps:\",len(path)-1)"
   ]
  },
  {
   "cell_type": "code",
   "execution_count": null,
   "id": "4fb40db5",
   "metadata": {},
   "outputs": [],
   "source": []
  }
 ],
 "metadata": {
  "kernelspec": {
   "display_name": "Python 3 (ipykernel)",
   "language": "python",
   "name": "python3"
  },
  "language_info": {
   "codemirror_mode": {
    "name": "ipython",
    "version": 3
   },
   "file_extension": ".py",
   "mimetype": "text/x-python",
   "name": "python",
   "nbconvert_exporter": "python",
   "pygments_lexer": "ipython3",
   "version": "3.11.5"
  }
 },
 "nbformat": 4,
 "nbformat_minor": 5
}
